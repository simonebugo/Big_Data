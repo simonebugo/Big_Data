{
  "nbformat": 4,
  "nbformat_minor": 0,
  "metadata": {
    "kernelspec": {
      "display_name": "Python 3",
      "language": "python",
      "name": "python3"
    },
    "language_info": {
      "codemirror_mode": {
        "name": "ipython",
        "version": 3
      },
      "file_extension": ".py",
      "mimetype": "text/x-python",
      "name": "python",
      "nbconvert_exporter": "python",
      "pygments_lexer": "ipython3",
      "version": "3.6.8"
    },
    "colab": {
      "provenance": [],
      "collapsed_sections": [
        "HdnHrUkZ5st1",
        "58P_T-TZ5sum",
        "mz79pm9z5su8",
        "5B1fj3EF5svG",
        "O4hMRPpG5svN",
        "BcdwPmji5svR",
        "DitlygOO5swM",
        "UCzNEXTS5swU",
        "8PpBf9z35swg",
        "3XxfwYkT5swu"
      ],
      "include_colab_link": true
    }
  },
  "cells": [
    {
      "cell_type": "markdown",
      "metadata": {
        "id": "view-in-github",
        "colab_type": "text"
      },
      "source": [
        "<a href=\"https://colab.research.google.com/github/simonebugo/Big_Data/blob/main/2a_Numpy.ipynb\" target=\"_parent\"><img src=\"https://colab.research.google.com/assets/colab-badge.svg\" alt=\"Open In Colab\"/></a>"
      ]
    },
    {
      "cell_type": "markdown",
      "metadata": {
        "id": "9WB297Ey5ssg"
      },
      "source": [
        "# Numpy\n",
        "\n",
        "NumPy (short for Numerical Python) provides an efficient interface to store and operate on dense data buffers."
      ]
    },
    {
      "cell_type": "code",
      "metadata": {
        "id": "aGsKAdyW5ssh"
      },
      "source": [
        "import numpy as np"
      ],
      "execution_count": 5,
      "outputs": []
    },
    {
      "cell_type": "markdown",
      "metadata": {
        "id": "317ESUmI5ssk"
      },
      "source": [
        "# The NumPy ndarray: A Multidimensional Array Object\n",
        "- N-dimensional array object, or ndarray, which is a fast, flexible container for large data sets\n",
        "- Arrays enable you to perform mathematical operations on whole blocks of data using similar syntax\n",
        "- An ndarray is a generic multidimensional container for homogeneous data\n",
        "  - all of the elements must be the **same type**,\n",
        "  - **shape**, a tuple indicating the size of each dimension,\n",
        "  - **dtype**, an object describing the data type of the array."
      ]
    },
    {
      "cell_type": "markdown",
      "metadata": {
        "id": "lmwxZVo95ssl"
      },
      "source": [
        "## Creating ndarrays\n",
        "- the ***array*** function accepts any sequence-like object (including other arrays) and produces a new NumPy array containing the passed data\n"
      ]
    },
    {
      "cell_type": "code",
      "metadata": {
        "id": "NY1Sbutt5ssl"
      },
      "source": [
        "data1 = [1, 3, 5, 7, 9, 11]"
      ],
      "execution_count": 1,
      "outputs": []
    },
    {
      "cell_type": "code",
      "metadata": {
        "id": "Nk9EKe-EzyuK",
        "outputId": "b5ba7f46-96a4-4a2f-9601-d5ef2a19e954",
        "colab": {
          "base_uri": "https://localhost:8080/"
        }
      },
      "source": [
        "data1"
      ],
      "execution_count": 2,
      "outputs": [
        {
          "output_type": "execute_result",
          "data": {
            "text/plain": [
              "[1, 3, 5, 7, 9, 11]"
            ]
          },
          "metadata": {},
          "execution_count": 2
        }
      ]
    },
    {
      "cell_type": "code",
      "source": [
        "type(data1)"
      ],
      "metadata": {
        "id": "XaSIZIwLCjD2",
        "outputId": "c416f5f8-af84-4b91-f5cf-c385ccde4a8b",
        "colab": {
          "base_uri": "https://localhost:8080/"
        }
      },
      "execution_count": 3,
      "outputs": [
        {
          "output_type": "execute_result",
          "data": {
            "text/plain": [
              "list"
            ]
          },
          "metadata": {},
          "execution_count": 3
        }
      ]
    },
    {
      "cell_type": "code",
      "metadata": {
        "id": "bLJafGj45sso"
      },
      "source": [
        "arr1 = np.array(data1)"
      ],
      "execution_count": 7,
      "outputs": []
    },
    {
      "cell_type": "code",
      "metadata": {
        "id": "2ZYe4TEH5ssr",
        "outputId": "13f9b4f1-45e0-4a83-876b-999033cebf06",
        "colab": {
          "base_uri": "https://localhost:8080/"
        }
      },
      "source": [
        "arr1"
      ],
      "execution_count": 8,
      "outputs": [
        {
          "output_type": "execute_result",
          "data": {
            "text/plain": [
              "array([ 1,  3,  5,  7,  9, 11])"
            ]
          },
          "metadata": {},
          "execution_count": 8
        }
      ]
    },
    {
      "cell_type": "code",
      "metadata": {
        "id": "V0ZI2LaqNjtT",
        "outputId": "f1206bc0-9cfe-4841-9334-453ea8a3f8bf",
        "colab": {
          "base_uri": "https://localhost:8080/"
        }
      },
      "source": [
        "arr1.ndim\n",
        "#mi restituisce la dimensione"
      ],
      "execution_count": 9,
      "outputs": [
        {
          "output_type": "execute_result",
          "data": {
            "text/plain": [
              "1"
            ]
          },
          "metadata": {},
          "execution_count": 9
        }
      ]
    },
    {
      "cell_type": "code",
      "source": [
        "arr1.shape\n"
      ],
      "metadata": {
        "id": "2gW0BdWB0ciZ",
        "outputId": "ca56dd12-3ea0-4ba7-c343-51991a482a5f",
        "colab": {
          "base_uri": "https://localhost:8080/"
        }
      },
      "execution_count": 10,
      "outputs": [
        {
          "output_type": "execute_result",
          "data": {
            "text/plain": [
              "(6,)"
            ]
          },
          "metadata": {},
          "execution_count": 10
        }
      ]
    },
    {
      "cell_type": "code",
      "source": [
        "arr1.dtype\n",
        "#indica il tipo degli elementi nell'array"
      ],
      "metadata": {
        "id": "KsFABk1d0eKe",
        "outputId": "d5155bfc-0121-45de-db35-63617894afe5",
        "colab": {
          "base_uri": "https://localhost:8080/"
        }
      },
      "execution_count": 11,
      "outputs": [
        {
          "output_type": "execute_result",
          "data": {
            "text/plain": [
              "dtype('int64')"
            ]
          },
          "metadata": {},
          "execution_count": 11
        }
      ]
    },
    {
      "cell_type": "code",
      "source": [
        "arr1.itemsize # the size (in bytes) of each array element"
      ],
      "metadata": {
        "id": "_6jwPcNu0wf4",
        "outputId": "e575910e-6957-44e8-a91a-88006fcc3371",
        "colab": {
          "base_uri": "https://localhost:8080/"
        }
      },
      "execution_count": 12,
      "outputs": [
        {
          "output_type": "execute_result",
          "data": {
            "text/plain": [
              "8"
            ]
          },
          "metadata": {},
          "execution_count": 12
        }
      ]
    },
    {
      "cell_type": "code",
      "source": [
        "arr1.nbytes # the total size (in bytes) of the array"
      ],
      "metadata": {
        "id": "OhN6xqqN043V",
        "outputId": "2ef2935a-c4c3-4d72-de65-4b3c6cca2d81",
        "colab": {
          "base_uri": "https://localhost:8080/"
        }
      },
      "execution_count": 13,
      "outputs": [
        {
          "output_type": "execute_result",
          "data": {
            "text/plain": [
              "48"
            ]
          },
          "metadata": {},
          "execution_count": 13
        }
      ]
    },
    {
      "cell_type": "code",
      "metadata": {
        "id": "sjFzvo_r5sst"
      },
      "source": [
        "data2 = [1, 3.7, 5, 7, 9, 11.4]"
      ],
      "execution_count": 16,
      "outputs": []
    },
    {
      "cell_type": "code",
      "metadata": {
        "id": "FAoOiSIFJrbh",
        "outputId": "91c8d78a-a1f5-42af-d0c5-af67c769caeb",
        "colab": {
          "base_uri": "https://localhost:8080/"
        }
      },
      "source": [
        "data2"
      ],
      "execution_count": 17,
      "outputs": [
        {
          "output_type": "execute_result",
          "data": {
            "text/plain": [
              "[1, 3.7, 5, 7, 9, 11.4]"
            ]
          },
          "metadata": {},
          "execution_count": 17
        }
      ]
    },
    {
      "cell_type": "markdown",
      "source": [
        "- data2 contiene numeri interi e numeri decimali, posso creare un Numpy array?"
      ],
      "metadata": {
        "id": "EGNsWARxxd3Q"
      }
    },
    {
      "cell_type": "code",
      "metadata": {
        "id": "rq3A4_6X5ss1"
      },
      "source": [
        "arr2 = np.array(data2)"
      ],
      "execution_count": 18,
      "outputs": []
    },
    {
      "cell_type": "code",
      "metadata": {
        "id": "XUtEZrOQ5ss6",
        "outputId": "c03971c0-b35b-49a6-be97-d95e50f5709f",
        "colab": {
          "base_uri": "https://localhost:8080/"
        }
      },
      "source": [
        "arr2"
      ],
      "execution_count": 19,
      "outputs": [
        {
          "output_type": "execute_result",
          "data": {
            "text/plain": [
              "array([ 1. ,  3.7,  5. ,  7. ,  9. , 11.4])"
            ]
          },
          "metadata": {},
          "execution_count": 19
        }
      ]
    },
    {
      "cell_type": "code",
      "metadata": {
        "id": "YIbBoOm2KBWL",
        "outputId": "51408234-34e4-4ecb-cc50-488dcf52ff98",
        "colab": {
          "base_uri": "https://localhost:8080/"
        }
      },
      "source": [
        "for x in arr2:\n",
        "  print(x)"
      ],
      "execution_count": 20,
      "outputs": [
        {
          "output_type": "stream",
          "name": "stdout",
          "text": [
            "1.0\n",
            "3.7\n",
            "5.0\n",
            "7.0\n",
            "9.0\n",
            "11.4\n"
          ]
        }
      ]
    },
    {
      "cell_type": "code",
      "source": [
        "arr2[0]"
      ],
      "metadata": {
        "id": "qcJZkaEbyP4p",
        "outputId": "4eec963a-f7bf-475b-a519-16ea3f980364",
        "colab": {
          "base_uri": "https://localhost:8080/"
        }
      },
      "execution_count": 21,
      "outputs": [
        {
          "output_type": "execute_result",
          "data": {
            "text/plain": [
              "np.float64(1.0)"
            ]
          },
          "metadata": {},
          "execution_count": 21
        }
      ]
    },
    {
      "cell_type": "markdown",
      "source": [
        "- Con due dimensioni?"
      ],
      "metadata": {
        "id": "ed_1JDm1zBzu"
      }
    },
    {
      "cell_type": "code",
      "metadata": {
        "id": "jUTZJYZB5stH"
      },
      "source": [
        "data_2 = [[1, 2, 3], [4, 5, 6], [7, 8, 9]]\n",
        "#con 2 dimensioni si definisce una matrice, lo posso fare partendo da una lista di liste"
      ],
      "execution_count": 22,
      "outputs": []
    },
    {
      "cell_type": "code",
      "source": [
        "type(data_2)"
      ],
      "metadata": {
        "id": "gYxsBIu1x5cW",
        "outputId": "b43b1be4-aae5-4668-fb8d-972b71ddcee9",
        "colab": {
          "base_uri": "https://localhost:8080/"
        }
      },
      "execution_count": 23,
      "outputs": [
        {
          "output_type": "execute_result",
          "data": {
            "text/plain": [
              "list"
            ]
          },
          "metadata": {},
          "execution_count": 23
        }
      ]
    },
    {
      "cell_type": "code",
      "metadata": {
        "id": "Z-NOJQCU2SUa",
        "outputId": "e8526110-1b13-4df6-97d7-6beefb628266",
        "colab": {
          "base_uri": "https://localhost:8080/"
        }
      },
      "source": [
        "data_2[1][0]"
      ],
      "execution_count": 24,
      "outputs": [
        {
          "output_type": "execute_result",
          "data": {
            "text/plain": [
              "4"
            ]
          },
          "metadata": {},
          "execution_count": 24
        }
      ]
    },
    {
      "cell_type": "code",
      "metadata": {
        "id": "G2wTCU7YLX18",
        "outputId": "e5391f80-9a45-4f4f-d4a5-c00853ad45dd",
        "colab": {
          "base_uri": "https://localhost:8080/"
        }
      },
      "source": [
        "data_2"
      ],
      "execution_count": 25,
      "outputs": [
        {
          "output_type": "execute_result",
          "data": {
            "text/plain": [
              "[[1, 2, 3], [4, 5, 6], [7, 8, 9]]"
            ]
          },
          "metadata": {},
          "execution_count": 25
        }
      ]
    },
    {
      "cell_type": "code",
      "metadata": {
        "id": "0-eBFU1P5stJ"
      },
      "source": [
        "arr_2 = np.array(data_2)"
      ],
      "execution_count": 26,
      "outputs": []
    },
    {
      "cell_type": "code",
      "metadata": {
        "id": "K11fF0jq5stL",
        "outputId": "cfd6fb2d-0f98-4ca1-ade9-6b38eb7ecc58",
        "colab": {
          "base_uri": "https://localhost:8080/"
        }
      },
      "source": [
        "arr_2"
      ],
      "execution_count": 27,
      "outputs": [
        {
          "output_type": "execute_result",
          "data": {
            "text/plain": [
              "array([[1, 2, 3],\n",
              "       [4, 5, 6],\n",
              "       [7, 8, 9]])"
            ]
          },
          "metadata": {},
          "execution_count": 27
        }
      ]
    },
    {
      "cell_type": "code",
      "metadata": {
        "id": "rA__3sGY5stN",
        "outputId": "cced7840-4738-4799-e2ba-f552822a09a4",
        "colab": {
          "base_uri": "https://localhost:8080/"
        }
      },
      "source": [
        "arr_2.ndim\n",
        "#->2 ho righe e colonne"
      ],
      "execution_count": 28,
      "outputs": [
        {
          "output_type": "execute_result",
          "data": {
            "text/plain": [
              "2"
            ]
          },
          "metadata": {},
          "execution_count": 28
        }
      ]
    },
    {
      "cell_type": "code",
      "metadata": {
        "id": "PIqPals15stP"
      },
      "source": [
        "arr_2.shape"
      ],
      "execution_count": null,
      "outputs": []
    },
    {
      "cell_type": "markdown",
      "metadata": {
        "id": "s9m7j1RF5sta"
      },
      "source": [
        "- Other techniques for initializing ndarrays\n",
        "  - ones\n",
        "  - zeros\n",
        "  - empty\n",
        "  - eye"
      ]
    },
    {
      "cell_type": "code",
      "metadata": {
        "id": "5PVvByym5stb",
        "outputId": "6a81c92c-cc7a-434f-84af-9696570642ac",
        "colab": {
          "base_uri": "https://localhost:8080/"
        }
      },
      "source": [
        "np.ones(16)\n",
        "#inizializzo un array tutto a 1. di default sono float 64"
      ],
      "execution_count": 29,
      "outputs": [
        {
          "output_type": "execute_result",
          "data": {
            "text/plain": [
              "array([1., 1., 1., 1., 1., 1., 1., 1., 1., 1., 1., 1., 1., 1., 1., 1.])"
            ]
          },
          "metadata": {},
          "execution_count": 29
        }
      ]
    },
    {
      "cell_type": "code",
      "metadata": {
        "id": "yDh6c8xGaEx8",
        "outputId": "ea44623f-4e06-4dc1-d48a-9ed7089ed044",
        "colab": {
          "base_uri": "https://localhost:8080/"
        }
      },
      "source": [
        "np.ones((16, 2))"
      ],
      "execution_count": 30,
      "outputs": [
        {
          "output_type": "execute_result",
          "data": {
            "text/plain": [
              "array([[1., 1.],\n",
              "       [1., 1.],\n",
              "       [1., 1.],\n",
              "       [1., 1.],\n",
              "       [1., 1.],\n",
              "       [1., 1.],\n",
              "       [1., 1.],\n",
              "       [1., 1.],\n",
              "       [1., 1.],\n",
              "       [1., 1.],\n",
              "       [1., 1.],\n",
              "       [1., 1.],\n",
              "       [1., 1.],\n",
              "       [1., 1.],\n",
              "       [1., 1.],\n",
              "       [1., 1.]])"
            ]
          },
          "metadata": {},
          "execution_count": 30
        }
      ]
    },
    {
      "cell_type": "code",
      "metadata": {
        "id": "DzMQ4cjk5std",
        "outputId": "7822b310-3ad3-437c-d581-7e3e526ea02f",
        "colab": {
          "base_uri": "https://localhost:8080/"
        }
      },
      "source": [
        "np.empty((3, 4))\n",
        "#non ho controllo dei valori, 3 righe e 4 colonne"
      ],
      "execution_count": 32,
      "outputs": [
        {
          "output_type": "execute_result",
          "data": {
            "text/plain": [
              "array([[4.18725558e-315, 0.00000000e+000, 0.00000000e+000,\n",
              "        0.00000000e+000],\n",
              "       [2.22809558e-312, 1.50008929e+248, 4.31174539e-096,\n",
              "        1.15998412e-028],\n",
              "       [3.77778426e+180, 1.15998412e-028, 4.19462329e+228,\n",
              "        1.55535091e+161]])"
            ]
          },
          "metadata": {},
          "execution_count": 32
        }
      ]
    },
    {
      "cell_type": "code",
      "metadata": {
        "id": "4kgq-VkXlCuN",
        "outputId": "34d17231-4b90-4cc6-a779-684b04455c57",
        "colab": {
          "base_uri": "https://localhost:8080/"
        }
      },
      "source": [
        "np.zeros((4, 4, 4))\n",
        "#3 dimensioni ognuna di 4x4 elemeti. ho 3 matrici 4x4"
      ],
      "execution_count": 33,
      "outputs": [
        {
          "output_type": "execute_result",
          "data": {
            "text/plain": [
              "array([[[0., 0., 0., 0.],\n",
              "        [0., 0., 0., 0.],\n",
              "        [0., 0., 0., 0.],\n",
              "        [0., 0., 0., 0.]],\n",
              "\n",
              "       [[0., 0., 0., 0.],\n",
              "        [0., 0., 0., 0.],\n",
              "        [0., 0., 0., 0.],\n",
              "        [0., 0., 0., 0.]],\n",
              "\n",
              "       [[0., 0., 0., 0.],\n",
              "        [0., 0., 0., 0.],\n",
              "        [0., 0., 0., 0.],\n",
              "        [0., 0., 0., 0.]],\n",
              "\n",
              "       [[0., 0., 0., 0.],\n",
              "        [0., 0., 0., 0.],\n",
              "        [0., 0., 0., 0.],\n",
              "        [0., 0., 0., 0.]]])"
            ]
          },
          "metadata": {},
          "execution_count": 33
        }
      ]
    },
    {
      "cell_type": "code",
      "metadata": {
        "id": "WS7s4YLY5stj",
        "outputId": "b3fcebca-6753-46a9-c582-2edb63e8cb79",
        "colab": {
          "base_uri": "https://localhost:8080/"
        }
      },
      "source": [
        "np.eye(44)\n",
        "#matrice identità"
      ],
      "execution_count": 31,
      "outputs": [
        {
          "output_type": "execute_result",
          "data": {
            "text/plain": [
              "array([[1., 0., 0., ..., 0., 0., 0.],\n",
              "       [0., 1., 0., ..., 0., 0., 0.],\n",
              "       [0., 0., 1., ..., 0., 0., 0.],\n",
              "       ...,\n",
              "       [0., 0., 0., ..., 1., 0., 0.],\n",
              "       [0., 0., 0., ..., 0., 1., 0.],\n",
              "       [0., 0., 0., ..., 0., 0., 1.]])"
            ]
          },
          "metadata": {},
          "execution_count": 31
        }
      ]
    },
    {
      "cell_type": "markdown",
      "metadata": {
        "id": "XSbMAexj5stl"
      },
      "source": [
        "- When constructing an array, you can specify the data type using a string"
      ]
    },
    {
      "cell_type": "code",
      "metadata": {
        "id": "S3dtK3nt5stl"
      },
      "source": [
        "np.ones(10, dtype='float32')  # Default is numpy.float64"
      ],
      "execution_count": null,
      "outputs": []
    },
    {
      "cell_type": "code",
      "source": [
        "# random.randint(low, high=None, size=None, dtype=int)\n",
        "\n",
        "a1 = np.random.randint(10, size=10)  #one-dimensional array\n",
        "a2 = np.random.randint(10, size=(10, 4)) # two-dimensional array\n",
        "a3 = np.random.randint(10, size=(10, 3, 3)) # three-dimensional array"
      ],
      "metadata": {
        "id": "Qg43wTUo2UTz"
      },
      "execution_count": null,
      "outputs": []
    },
    {
      "cell_type": "markdown",
      "metadata": {
        "id": "fGs_RAFk5stn"
      },
      "source": [
        "## Basic array manipulations"
      ]
    },
    {
      "cell_type": "markdown",
      "metadata": {
        "id": "HdnHrUkZ5st1"
      },
      "source": [
        "#### Indexing and slicing arrays\n",
        "- Getting and setting the value of individual array elements\n",
        "- Getting and setting smaller subarrays within a larger array"
      ]
    },
    {
      "cell_type": "code",
      "metadata": {
        "id": "fj_y7Rmx5st2"
      },
      "source": [
        "# numpy.arange([start, ]stop, [step, ]dtype=None, *, like=None)\n",
        "\n",
        "arr = np.arange(0,10,1) #posso utilizzare lo slicing per accedere ai valori. funziona arrange crea sequenza di numeri da 0 a 10 aggiungendo sempre 1 in questo caso"
      ],
      "execution_count": 34,
      "outputs": []
    },
    {
      "cell_type": "code",
      "metadata": {
        "id": "Su5lfmHY5st4",
        "outputId": "1f6b2db0-2915-43cd-fb8a-db8f4353ca99",
        "colab": {
          "base_uri": "https://localhost:8080/"
        }
      },
      "source": [
        "arr"
      ],
      "execution_count": 35,
      "outputs": [
        {
          "output_type": "execute_result",
          "data": {
            "text/plain": [
              "array([0, 1, 2, 3, 4, 5, 6, 7, 8, 9])"
            ]
          },
          "metadata": {},
          "execution_count": 35
        }
      ]
    },
    {
      "cell_type": "code",
      "metadata": {
        "id": "R369R-_N5st6"
      },
      "source": [
        "arr[5]"
      ],
      "execution_count": null,
      "outputs": []
    },
    {
      "cell_type": "code",
      "metadata": {
        "id": "1cBRvd7W5st8"
      },
      "source": [
        "arr[:]"
      ],
      "execution_count": null,
      "outputs": []
    },
    {
      "cell_type": "code",
      "source": [
        "arr[2:5] #accedo ai valori dall'indice 2 all'indice 5"
      ],
      "metadata": {
        "id": "2zRf0vhze3ED",
        "outputId": "29f14326-f0e7-4bec-9a2c-629595d15834",
        "colab": {
          "base_uri": "https://localhost:8080/"
        }
      },
      "execution_count": 36,
      "outputs": [
        {
          "output_type": "execute_result",
          "data": {
            "text/plain": [
              "array([2, 3, 4])"
            ]
          },
          "metadata": {},
          "execution_count": 36
        }
      ]
    },
    {
      "cell_type": "code",
      "metadata": {
        "id": "MEj_1oHc5st-"
      },
      "source": [
        "arr[2:5] = 111 # data is not copied, and any modifications to the view will be reflected in the source array\n",
        "#vado a modificare i valori degli array"
      ],
      "execution_count": 37,
      "outputs": []
    },
    {
      "cell_type": "code",
      "metadata": {
        "id": "nNycn1hf5suE",
        "outputId": "3891b90f-e63d-42af-c4f7-919cb72a898e",
        "colab": {
          "base_uri": "https://localhost:8080/"
        }
      },
      "source": [
        "arr"
      ],
      "execution_count": 38,
      "outputs": [
        {
          "output_type": "execute_result",
          "data": {
            "text/plain": [
              "array([  0,   1, 111, 111, 111,   5,   6,   7,   8,   9])"
            ]
          },
          "metadata": {},
          "execution_count": 38
        }
      ]
    },
    {
      "cell_type": "code",
      "source": [
        "lista = [0,1,2]\n",
        "# lista[:2] = 10 nelle liste questa cosa non si può fare, deve esserci la stessa dimensione a destra e sinistra dell' ="
      ],
      "metadata": {
        "id": "nF0ZnytxrMpA"
      },
      "execution_count": 43,
      "outputs": []
    },
    {
      "cell_type": "code",
      "source": [
        "lista[:2] = [10,10]"
      ],
      "metadata": {
        "id": "Xfd3wRwAfJmw"
      },
      "execution_count": 40,
      "outputs": []
    },
    {
      "cell_type": "code",
      "source": [
        "lista"
      ],
      "metadata": {
        "id": "CY-jdGcqfJis",
        "outputId": "c8c148a1-f107-4079-a57a-8c32b79ccd2c",
        "colab": {
          "base_uri": "https://localhost:8080/"
        }
      },
      "execution_count": 41,
      "outputs": [
        {
          "output_type": "execute_result",
          "data": {
            "text/plain": [
              "[10, 10, 2]"
            ]
          },
          "metadata": {},
          "execution_count": 41
        }
      ]
    },
    {
      "cell_type": "code",
      "metadata": {
        "id": "NDwRU9WX5suP"
      },
      "source": [
        "array2D = np.array([[1, 2, 3], [4, 5, 6], [7, 8, 9]])\n",
        "#il modo di accedere con lo slicing si può utilizzare per accedere anche ad array con + dimensioni"
      ],
      "execution_count": 44,
      "outputs": []
    },
    {
      "cell_type": "code",
      "metadata": {
        "id": "x7eVplHQ8Ol9",
        "outputId": "2bf6cc38-7409-4436-fee0-a953efa882df",
        "colab": {
          "base_uri": "https://localhost:8080/"
        }
      },
      "source": [
        "array2D\n",
        "array2D[2] #si può accedere come per le liste"
      ],
      "execution_count": 45,
      "outputs": [
        {
          "output_type": "execute_result",
          "data": {
            "text/plain": [
              "array([7, 8, 9])"
            ]
          },
          "metadata": {},
          "execution_count": 45
        }
      ]
    },
    {
      "cell_type": "code",
      "metadata": {
        "id": "uetlbSaQ5suS"
      },
      "source": [
        "array2D[2]"
      ],
      "execution_count": null,
      "outputs": []
    },
    {
      "cell_type": "code",
      "metadata": {
        "id": "Nx5UQdaj5suU",
        "outputId": "37b2fe1a-2abb-4fdd-f886-3a48272d3557",
        "colab": {
          "base_uri": "https://localhost:8080/"
        }
      },
      "source": [
        "array2D[1,1] #elemento che ha come indice di riga 1 e di colonna 1"
      ],
      "execution_count": 46,
      "outputs": [
        {
          "output_type": "execute_result",
          "data": {
            "text/plain": [
              "np.int64(5)"
            ]
          },
          "metadata": {},
          "execution_count": 46
        }
      ]
    },
    {
      "cell_type": "code",
      "metadata": {
        "id": "63xckCFM5suW",
        "outputId": "ca5538ef-4910-45cc-9ab1-84a7f6254d56",
        "colab": {
          "base_uri": "https://localhost:8080/"
        }
      },
      "source": [
        "array2D[1,0]"
      ],
      "execution_count": 47,
      "outputs": [
        {
          "output_type": "execute_result",
          "data": {
            "text/plain": [
              "np.int64(4)"
            ]
          },
          "metadata": {},
          "execution_count": 47
        }
      ]
    },
    {
      "cell_type": "code",
      "source": [
        "array2D[1][0] #equivalente all'altro"
      ],
      "metadata": {
        "id": "u_dlm5WAsCIH",
        "outputId": "2b2e9095-99bf-4d90-deef-940a836c8c9f",
        "colab": {
          "base_uri": "https://localhost:8080/"
        }
      },
      "execution_count": 48,
      "outputs": [
        {
          "output_type": "execute_result",
          "data": {
            "text/plain": [
              "np.int64(4)"
            ]
          },
          "metadata": {},
          "execution_count": 48
        }
      ]
    },
    {
      "cell_type": "code",
      "metadata": {
        "id": "h9gmglc_5suY"
      },
      "source": [
        "array2D[1][0] = 44"
      ],
      "execution_count": null,
      "outputs": []
    },
    {
      "cell_type": "code",
      "metadata": {
        "id": "MCGWfhEC5sua"
      },
      "source": [
        "array2D"
      ],
      "execution_count": null,
      "outputs": []
    },
    {
      "cell_type": "code",
      "metadata": {
        "id": "Js1unP9u5suc",
        "outputId": "f544b78c-a42d-41da-f1ed-a8d32ada5427",
        "colab": {
          "base_uri": "https://localhost:8080/"
        }
      },
      "source": [
        "array2D[:, 0:1] #slicing si può utilizzare così per accedeere a tutte le righe e solo ad una colonna siccome l'indice 1 non è compreso"
      ],
      "execution_count": 49,
      "outputs": [
        {
          "output_type": "execute_result",
          "data": {
            "text/plain": [
              "array([[1],\n",
              "       [4],\n",
              "       [7]])"
            ]
          },
          "metadata": {},
          "execution_count": 49
        }
      ]
    },
    {
      "cell_type": "code",
      "metadata": {
        "id": "Vy3xPA2g5sue",
        "outputId": "df9c3f65-79ae-410e-bda2-632d97f17b80",
        "colab": {
          "base_uri": "https://localhost:8080/"
        }
      },
      "source": [
        "array2D[2:,1:] #vado da riga di indice 2 (quindi in questo caso solo la riga 2 siccome ho 3 righe (0,1,2) in poi a colonna di indice 1 in poi"
      ],
      "execution_count": 50,
      "outputs": [
        {
          "output_type": "execute_result",
          "data": {
            "text/plain": [
              "array([[8, 9]])"
            ]
          },
          "metadata": {},
          "execution_count": 50
        }
      ]
    },
    {
      "cell_type": "code",
      "metadata": {
        "id": "Ixe_1Ltu5suh"
      },
      "source": [
        "array2D[:,1:]"
      ],
      "execution_count": null,
      "outputs": []
    },
    {
      "cell_type": "markdown",
      "metadata": {
        "id": "58P_T-TZ5sum"
      },
      "source": [
        "#### Boolean indexing"
      ]
    },
    {
      "cell_type": "code",
      "metadata": {
        "id": "i06gPu5G5suo"
      },
      "source": [
        "data = np.random.randn(7,5)\n",
        "#posso confrontare i valori di un aray rispetto ad un certo numero"
      ],
      "execution_count": 97,
      "outputs": []
    },
    {
      "cell_type": "code",
      "metadata": {
        "id": "WNVJ6zoH5sur",
        "outputId": "696f2b26-e1a6-4cd2-c597-ed0191415723",
        "colab": {
          "base_uri": "https://localhost:8080/"
        }
      },
      "source": [
        "data"
      ],
      "execution_count": 53,
      "outputs": [
        {
          "output_type": "execute_result",
          "data": {
            "text/plain": [
              "array([[ 0.86934243, -0.42366701, -0.27151807,  1.03659793,  0.13529045],\n",
              "       [-1.09044936, -0.87550047,  0.62752675,  0.12787938,  0.49581458],\n",
              "       [-0.29576356, -0.23402278, -0.65400534, -0.60856177, -0.89981989],\n",
              "       [-0.17317664,  0.74993107,  0.11053261, -0.20642049,  0.75836111],\n",
              "       [ 0.04948849, -1.37093237, -0.868576  ,  0.10359199,  1.43761472],\n",
              "       [ 1.28865933, -0.53384523,  1.27289562, -1.34891404, -1.07086641],\n",
              "       [ 0.67084655, -0.20970465,  1.7547897 , -1.74853566,  0.79155045]])"
            ]
          },
          "metadata": {},
          "execution_count": 53
        }
      ]
    },
    {
      "cell_type": "code",
      "source": [
        "data < 0 #valori true o false in basa se è rispettata o meno"
      ],
      "metadata": {
        "id": "FISS9Owcq-PO",
        "outputId": "aeeb6257-ba39-4584-bd24-994206184a11",
        "colab": {
          "base_uri": "https://localhost:8080/"
        }
      },
      "execution_count": 54,
      "outputs": [
        {
          "output_type": "execute_result",
          "data": {
            "text/plain": [
              "array([[False,  True,  True, False, False],\n",
              "       [ True,  True, False, False, False],\n",
              "       [ True,  True,  True,  True,  True],\n",
              "       [ True, False, False,  True, False],\n",
              "       [False,  True,  True, False, False],\n",
              "       [False,  True, False,  True,  True],\n",
              "       [False,  True, False,  True, False]])"
            ]
          },
          "metadata": {},
          "execution_count": 54
        }
      ]
    },
    {
      "cell_type": "code",
      "metadata": {
        "id": "ISdef--zSDRZ"
      },
      "source": [
        "data[data<0]=0 #così facendo tutti i valori < 0 vengono modificati con 0"
      ],
      "execution_count": 56,
      "outputs": []
    },
    {
      "cell_type": "code",
      "metadata": {
        "id": "ci4bXLRtSDDl",
        "outputId": "069e4bb6-c7d3-468f-dfb9-44443144b191",
        "colab": {
          "base_uri": "https://localhost:8080/"
        }
      },
      "source": [
        "data"
      ],
      "execution_count": 57,
      "outputs": [
        {
          "output_type": "execute_result",
          "data": {
            "text/plain": [
              "array([[0.86934243, 0.        , 0.        , 1.03659793, 0.13529045],\n",
              "       [0.        , 0.        , 0.62752675, 0.12787938, 0.49581458],\n",
              "       [0.        , 0.        , 0.        , 0.        , 0.        ],\n",
              "       [0.        , 0.74993107, 0.11053261, 0.        , 0.75836111],\n",
              "       [0.04948849, 0.        , 0.        , 0.10359199, 1.43761472],\n",
              "       [1.28865933, 0.        , 1.27289562, 0.        , 0.        ],\n",
              "       [0.67084655, 0.        , 1.7547897 , 0.        , 0.79155045]])"
            ]
          },
          "metadata": {},
          "execution_count": 57
        }
      ]
    },
    {
      "cell_type": "code",
      "metadata": {
        "id": "GvfF0uW6-WxP"
      },
      "source": [
        "array2D"
      ],
      "execution_count": null,
      "outputs": []
    },
    {
      "cell_type": "code",
      "metadata": {
        "id": "ZdE1I4O5-Wph"
      },
      "source": [
        "array2D == 5"
      ],
      "execution_count": null,
      "outputs": []
    },
    {
      "cell_type": "code",
      "metadata": {
        "id": "GA6QvDHZ-Wfy"
      },
      "source": [
        "array2D[array2D == 5]=0"
      ],
      "execution_count": null,
      "outputs": []
    },
    {
      "cell_type": "code",
      "metadata": {
        "id": "cDBHc3Gi-WUn"
      },
      "source": [
        "array2D"
      ],
      "execution_count": null,
      "outputs": []
    },
    {
      "cell_type": "code",
      "source": [
        "(array2D == 3) | (array2D == 8)"
      ],
      "metadata": {
        "id": "-yZHjXRHgSp4"
      },
      "execution_count": null,
      "outputs": []
    },
    {
      "cell_type": "markdown",
      "metadata": {
        "id": "mz79pm9z5su8"
      },
      "source": [
        "#### Fancy Indexing\n",
        "- Fancy indexing is a term adopted by NumPy to describe indexing using integer arrays.\n",
        "- To select out a subset of the rows in a particular order, you can simply pass a list or ndarray of integers specifying the desired order"
      ]
    },
    {
      "cell_type": "code",
      "metadata": {
        "id": "DI_gNOpe5su8"
      },
      "source": [
        "arr = np.empty((10, 6))"
      ],
      "execution_count": 61,
      "outputs": []
    },
    {
      "cell_type": "code",
      "metadata": {
        "id": "amYcEffU5su-"
      },
      "source": [
        "for i in range(10):\n",
        "    arr[i] = i"
      ],
      "execution_count": null,
      "outputs": []
    },
    {
      "cell_type": "code",
      "metadata": {
        "id": "sERhphvs5su_",
        "outputId": "5fc837e7-1b88-416f-f038-29e440957b38",
        "colab": {
          "base_uri": "https://localhost:8080/"
        }
      },
      "source": [
        "arr"
      ],
      "execution_count": 62,
      "outputs": [
        {
          "output_type": "execute_result",
          "data": {
            "text/plain": [
              "array([[4.10958283e-315, 0.00000000e+000, 6.66346214e-310,\n",
              "        1.27319747e-313, 4.75093525e-320, 6.66346214e-310],\n",
              "       [3.60667921e-322, 6.66346198e-310,             nan,\n",
              "        4.16917268e-315, 6.66346214e-310, 2.33419537e-313],\n",
              "       [4.78255545e-320, 6.66346214e-310,             nan,\n",
              "        2.12199579e-314,             nan, 4.16917246e-315],\n",
              "       [6.66346214e-310, 1.27319747e-313, 4.81417565e-320,\n",
              "        6.66346214e-310, 3.65608578e-322, 6.66346198e-310],\n",
              "       [            nan, 4.16917268e-315, 6.66346214e-310,\n",
              "        2.33419537e-313, 4.84579585e-320, 6.66346214e-310],\n",
              "       [            nan, 2.12199579e-314,             nan,\n",
              "        4.16917246e-315, 6.66346214e-310, 1.27319747e-313],\n",
              "       [4.87741606e-320, 6.66346214e-310, 3.70549234e-322,\n",
              "        6.66346198e-310,             nan, 4.16917268e-315],\n",
              "       [6.66346214e-310, 2.33419537e-313, 4.90903626e-320,\n",
              "        6.66346214e-310,             nan, 2.12199579e-314],\n",
              "       [            nan, 4.16917246e-315, 6.66346214e-310,\n",
              "        1.27319747e-313, 4.94065646e-320, 6.66346214e-310],\n",
              "       [3.75489891e-322, 6.66346198e-310,             nan,\n",
              "        4.16917268e-315, 6.66346214e-310, 2.33419537e-313]])"
            ]
          },
          "metadata": {},
          "execution_count": 62
        }
      ]
    },
    {
      "cell_type": "code",
      "metadata": {
        "id": "pc6KwbGW5svB"
      },
      "source": [
        "arr[[2,1,4]]"
      ],
      "execution_count": null,
      "outputs": []
    },
    {
      "cell_type": "code",
      "metadata": {
        "id": "APX-7Y6I5svE"
      },
      "source": [
        "arr[np.array([1,5,4,3,6,6,7])]"
      ],
      "execution_count": null,
      "outputs": []
    },
    {
      "cell_type": "markdown",
      "metadata": {
        "id": "5B1fj3EF5svG"
      },
      "source": [
        "#### Reshaping of arrays\n",
        "- Changing the shape of a given array\n"
      ]
    },
    {
      "cell_type": "code",
      "metadata": {
        "id": "BUZYf5SS5svG",
        "outputId": "abbfb75a-b78c-4a9c-cabb-b2645b42ee94",
        "colab": {
          "base_uri": "https://localhost:8080/"
        }
      },
      "source": [
        "arr.shape"
      ],
      "execution_count": 63,
      "outputs": [
        {
          "output_type": "execute_result",
          "data": {
            "text/plain": [
              "(10, 6)"
            ]
          },
          "metadata": {},
          "execution_count": 63
        }
      ]
    },
    {
      "cell_type": "code",
      "metadata": {
        "id": "QTCWlvhp5svI",
        "outputId": "1cc61bf8-c100-4a58-9f34-b03de37ff99f",
        "colab": {
          "base_uri": "https://localhost:8080/"
        }
      },
      "source": [
        "arr"
      ],
      "execution_count": 64,
      "outputs": [
        {
          "output_type": "execute_result",
          "data": {
            "text/plain": [
              "array([[4.10958283e-315, 0.00000000e+000, 6.66346214e-310,\n",
              "        1.27319747e-313, 4.75093525e-320, 6.66346214e-310],\n",
              "       [3.60667921e-322, 6.66346198e-310,             nan,\n",
              "        4.16917268e-315, 6.66346214e-310, 2.33419537e-313],\n",
              "       [4.78255545e-320, 6.66346214e-310,             nan,\n",
              "        2.12199579e-314,             nan, 4.16917246e-315],\n",
              "       [6.66346214e-310, 1.27319747e-313, 4.81417565e-320,\n",
              "        6.66346214e-310, 3.65608578e-322, 6.66346198e-310],\n",
              "       [            nan, 4.16917268e-315, 6.66346214e-310,\n",
              "        2.33419537e-313, 4.84579585e-320, 6.66346214e-310],\n",
              "       [            nan, 2.12199579e-314,             nan,\n",
              "        4.16917246e-315, 6.66346214e-310, 1.27319747e-313],\n",
              "       [4.87741606e-320, 6.66346214e-310, 3.70549234e-322,\n",
              "        6.66346198e-310,             nan, 4.16917268e-315],\n",
              "       [6.66346214e-310, 2.33419537e-313, 4.90903626e-320,\n",
              "        6.66346214e-310,             nan, 2.12199579e-314],\n",
              "       [            nan, 4.16917246e-315, 6.66346214e-310,\n",
              "        1.27319747e-313, 4.94065646e-320, 6.66346214e-310],\n",
              "       [3.75489891e-322, 6.66346198e-310,             nan,\n",
              "        4.16917268e-315, 6.66346214e-310, 2.33419537e-313]])"
            ]
          },
          "metadata": {},
          "execution_count": 64
        }
      ]
    },
    {
      "cell_type": "code",
      "metadata": {
        "id": "9iXS4_l-TRAY",
        "outputId": "74bc971a-ddb6-46b0-9e18-d91794e903f7",
        "colab": {
          "base_uri": "https://localhost:8080/"
        }
      },
      "source": [
        "arr.reshape((5,12)) #il numero di elementi deve essere sempre la stesso. prima avevo 60 valori, devo avere 60 valori pure ora"
      ],
      "execution_count": 65,
      "outputs": [
        {
          "output_type": "execute_result",
          "data": {
            "text/plain": [
              "array([[4.10958283e-315, 0.00000000e+000, 6.66346214e-310,\n",
              "        1.27319747e-313, 4.75093525e-320, 6.66346214e-310,\n",
              "        3.60667921e-322, 6.66346198e-310,             nan,\n",
              "        4.16917268e-315, 6.66346214e-310, 2.33419537e-313],\n",
              "       [4.78255545e-320, 6.66346214e-310,             nan,\n",
              "        2.12199579e-314,             nan, 4.16917246e-315,\n",
              "        6.66346214e-310, 1.27319747e-313, 4.81417565e-320,\n",
              "        6.66346214e-310, 3.65608578e-322, 6.66346198e-310],\n",
              "       [            nan, 4.16917268e-315, 6.66346214e-310,\n",
              "        2.33419537e-313, 4.84579585e-320, 6.66346214e-310,\n",
              "                    nan, 2.12199579e-314,             nan,\n",
              "        4.16917246e-315, 6.66346214e-310, 1.27319747e-313],\n",
              "       [4.87741606e-320, 6.66346214e-310, 3.70549234e-322,\n",
              "        6.66346198e-310,             nan, 4.16917268e-315,\n",
              "        6.66346214e-310, 2.33419537e-313, 4.90903626e-320,\n",
              "        6.66346214e-310,             nan, 2.12199579e-314],\n",
              "       [            nan, 4.16917246e-315, 6.66346214e-310,\n",
              "        1.27319747e-313, 4.94065646e-320, 6.66346214e-310,\n",
              "        3.75489891e-322, 6.66346198e-310,             nan,\n",
              "        4.16917268e-315, 6.66346214e-310, 2.33419537e-313]])"
            ]
          },
          "metadata": {},
          "execution_count": 65
        }
      ]
    },
    {
      "cell_type": "code",
      "metadata": {
        "id": "2Nez_mn35svJ",
        "outputId": "3ce55dac-d6ba-4075-eeae-488763a3913d",
        "colab": {
          "base_uri": "https://localhost:8080/"
        }
      },
      "source": [
        "arr.reshape((-1,15))"
      ],
      "execution_count": 66,
      "outputs": [
        {
          "output_type": "execute_result",
          "data": {
            "text/plain": [
              "array([[4.10958283e-315, 0.00000000e+000, 6.66346214e-310,\n",
              "        1.27319747e-313, 4.75093525e-320, 6.66346214e-310,\n",
              "        3.60667921e-322, 6.66346198e-310,             nan,\n",
              "        4.16917268e-315, 6.66346214e-310, 2.33419537e-313,\n",
              "        4.78255545e-320, 6.66346214e-310,             nan],\n",
              "       [2.12199579e-314,             nan, 4.16917246e-315,\n",
              "        6.66346214e-310, 1.27319747e-313, 4.81417565e-320,\n",
              "        6.66346214e-310, 3.65608578e-322, 6.66346198e-310,\n",
              "                    nan, 4.16917268e-315, 6.66346214e-310,\n",
              "        2.33419537e-313, 4.84579585e-320, 6.66346214e-310],\n",
              "       [            nan, 2.12199579e-314,             nan,\n",
              "        4.16917246e-315, 6.66346214e-310, 1.27319747e-313,\n",
              "        4.87741606e-320, 6.66346214e-310, 3.70549234e-322,\n",
              "        6.66346198e-310,             nan, 4.16917268e-315,\n",
              "        6.66346214e-310, 2.33419537e-313, 4.90903626e-320],\n",
              "       [6.66346214e-310,             nan, 2.12199579e-314,\n",
              "                    nan, 4.16917246e-315, 6.66346214e-310,\n",
              "        1.27319747e-313, 4.94065646e-320, 6.66346214e-310,\n",
              "        3.75489891e-322, 6.66346198e-310,             nan,\n",
              "        4.16917268e-315, 6.66346214e-310, 2.33419537e-313]])"
            ]
          },
          "metadata": {},
          "execution_count": 66
        }
      ]
    },
    {
      "cell_type": "code",
      "metadata": {
        "id": "anP5wA7L5svL"
      },
      "source": [
        "arr.reshape((3,2,10)) #posso cambiare il nuemero di dimensioni, l'importante è che il numero di elementi sia sempre 60"
      ],
      "execution_count": null,
      "outputs": []
    },
    {
      "cell_type": "markdown",
      "metadata": {
        "id": "O4hMRPpG5svN"
      },
      "source": [
        "#### Change the data type of an array."
      ]
    },
    {
      "cell_type": "code",
      "metadata": {
        "id": "xEEB7T8Z5svN"
      },
      "source": [
        "x = np.array([[2, 4, 6], [6, 8, 10]], np.int32)"
      ],
      "execution_count": null,
      "outputs": []
    },
    {
      "cell_type": "code",
      "metadata": {
        "id": "qPIWjgWZ5svO"
      },
      "source": [
        "y= x.astype(float)"
      ],
      "execution_count": null,
      "outputs": []
    },
    {
      "cell_type": "code",
      "metadata": {
        "id": "axe6O0yI5svQ"
      },
      "source": [
        "y"
      ],
      "execution_count": null,
      "outputs": []
    },
    {
      "cell_type": "markdown",
      "metadata": {
        "id": "BcdwPmji5svR"
      },
      "source": [
        "#### Joining and splitting of arrays\n",
        "- Combining multiple arrays into one, and splitting one array into many\n",
        "  - np.concatenate takes a tuple or list of arrays as its first argument"
      ]
    },
    {
      "cell_type": "code",
      "metadata": {
        "id": "Dz0HMllo5svS",
        "outputId": "e9f806fc-b2c4-4142-f83b-32361ee44524",
        "colab": {
          "base_uri": "https://localhost:8080/"
        }
      },
      "source": [
        "x = np.array([1,2,3,4,5])\n",
        "y = np.array([6,7,8,9,10])\n",
        "x\n"
      ],
      "execution_count": 79,
      "outputs": [
        {
          "output_type": "execute_result",
          "data": {
            "text/plain": [
              "array([1, 2, 3, 4, 5])"
            ]
          },
          "metadata": {},
          "execution_count": 79
        }
      ]
    },
    {
      "cell_type": "code",
      "metadata": {
        "id": "KN7PngfW5svT",
        "outputId": "69672239-079f-4fcd-c39d-3d230481fede",
        "colab": {
          "base_uri": "https://localhost:8080/"
        }
      },
      "source": [
        "np.concatenate([x,y]) #li concatena una accanto all'altro (array di 1 sola dimensione)"
      ],
      "execution_count": 78,
      "outputs": [
        {
          "output_type": "execute_result",
          "data": {
            "text/plain": [
              "array([ 1,  2,  3,  4,  5,  6,  7,  8,  9, 10])"
            ]
          },
          "metadata": {},
          "execution_count": 78
        }
      ]
    },
    {
      "cell_type": "code",
      "source": [
        "x.ndim"
      ],
      "metadata": {
        "id": "FJDjtqZauPof",
        "outputId": "b46aaa56-26fd-41d8-9a70-65542ef656d7",
        "colab": {
          "base_uri": "https://localhost:8080/"
        }
      },
      "execution_count": 80,
      "outputs": [
        {
          "output_type": "execute_result",
          "data": {
            "text/plain": [
              "1"
            ]
          },
          "metadata": {},
          "execution_count": 80
        }
      ]
    },
    {
      "cell_type": "code",
      "source": [
        "x.shape"
      ],
      "metadata": {
        "id": "VPB7tOxZuWuc"
      },
      "execution_count": null,
      "outputs": []
    },
    {
      "cell_type": "code",
      "metadata": {
        "id": "mAWAzrPWUJ-g",
        "outputId": "765364c0-3fa6-4dd8-cb70-c7c3e252bfae",
        "colab": {
          "base_uri": "https://localhost:8080/",
          "height": 139
        }
      },
      "source": [
        "np.concatenate([x,y],axis=1)    # The axis along which the arrays will be joined. If axis is None, arrays are flattened before use. Default is 0.\n",
        "#gli array solo di un unica dimenione"
      ],
      "execution_count": 69,
      "outputs": [
        {
          "output_type": "error",
          "ename": "AxisError",
          "evalue": "axis 1 is out of bounds for array of dimension 1",
          "traceback": [
            "\u001b[0;31m---------------------------------------------------------------------------\u001b[0m",
            "\u001b[0;31mAxisError\u001b[0m                                 Traceback (most recent call last)",
            "\u001b[0;32m/tmp/ipython-input-2777711451.py\u001b[0m in \u001b[0;36m<cell line: 0>\u001b[0;34m()\u001b[0m\n\u001b[0;32m----> 1\u001b[0;31m \u001b[0mnp\u001b[0m\u001b[0;34m.\u001b[0m\u001b[0mconcatenate\u001b[0m\u001b[0;34m(\u001b[0m\u001b[0;34m[\u001b[0m\u001b[0mx\u001b[0m\u001b[0;34m,\u001b[0m\u001b[0my\u001b[0m\u001b[0;34m]\u001b[0m\u001b[0;34m,\u001b[0m\u001b[0maxis\u001b[0m\u001b[0;34m=\u001b[0m\u001b[0;36m1\u001b[0m\u001b[0;34m)\u001b[0m    \u001b[0;31m# The axis along which the arrays will be joined. If axis is None, arrays are flattened before use. Default is 0.\u001b[0m\u001b[0;34m\u001b[0m\u001b[0;34m\u001b[0m\u001b[0m\n\u001b[0m",
            "\u001b[0;31mAxisError\u001b[0m: axis 1 is out of bounds for array of dimension 1"
          ]
        }
      ]
    },
    {
      "cell_type": "code",
      "metadata": {
        "id": "_DtPpmBqWhLx"
      },
      "source": [
        "xR=x.reshape(1,-1) #array di 1 sola riga dove il numero di colonne è calcolato in modo automatico (array di una riga e 5 colonne) -> ha quindi 2 dimensioni\n",
        "yR=y.reshape(1,-1)"
      ],
      "execution_count": 70,
      "outputs": []
    },
    {
      "cell_type": "code",
      "metadata": {
        "id": "-l00LSPoQg0q",
        "outputId": "28306268-675d-48b5-a89f-82c787e58fca",
        "colab": {
          "base_uri": "https://localhost:8080/"
        }
      },
      "source": [
        "xR"
      ],
      "execution_count": 74,
      "outputs": [
        {
          "output_type": "execute_result",
          "data": {
            "text/plain": [
              "array([[1, 2, 3, 4, 5]])"
            ]
          },
          "metadata": {},
          "execution_count": 74
        }
      ]
    },
    {
      "cell_type": "code",
      "metadata": {
        "id": "xpnArCaTQjqO",
        "outputId": "ab55c8fa-d96a-40e1-95a8-cd271e207a51",
        "colab": {
          "base_uri": "https://localhost:8080/"
        }
      },
      "source": [
        "xR.ndim"
      ],
      "execution_count": 75,
      "outputs": [
        {
          "output_type": "execute_result",
          "data": {
            "text/plain": [
              "2"
            ]
          },
          "metadata": {},
          "execution_count": 75
        }
      ]
    },
    {
      "cell_type": "code",
      "metadata": {
        "id": "w9m4XoTTQmcM"
      },
      "source": [
        "xR.shape"
      ],
      "execution_count": null,
      "outputs": []
    },
    {
      "cell_type": "code",
      "metadata": {
        "id": "JnKtp7PnWg2N",
        "outputId": "2fd3814c-01ca-4970-9f71-83aea2e11396",
        "colab": {
          "base_uri": "https://localhost:8080/"
        }
      },
      "source": [
        "np.concatenate([xR,yR])    # default axis=0"
      ],
      "execution_count": 76,
      "outputs": [
        {
          "output_type": "execute_result",
          "data": {
            "text/plain": [
              "array([[ 1,  2,  3,  4,  5],\n",
              "       [ 6,  7,  8,  9, 10]])"
            ]
          },
          "metadata": {},
          "execution_count": 76
        }
      ]
    },
    {
      "cell_type": "code",
      "source": [
        "np.concatenate([xR,yR], axis=1)"
      ],
      "metadata": {
        "id": "pTzOn_-UmseG"
      },
      "execution_count": null,
      "outputs": []
    },
    {
      "cell_type": "markdown",
      "metadata": {
        "id": "nh_ucUJq5svf"
      },
      "source": [
        "- For working with arrays of mixed dimensions, it can be clearer to use the np.vstack (vertical stack) and np.hstack (horizontal stack) functions\n"
      ]
    },
    {
      "cell_type": "code",
      "metadata": {
        "id": "8uQCtotb5svg"
      },
      "source": [
        "x = np.array([1,2,3])\n",
        "y = np.array([[4,5,6],[7,8,9]])"
      ],
      "execution_count": null,
      "outputs": []
    },
    {
      "cell_type": "code",
      "metadata": {
        "id": "StyxjQwMRgvH"
      },
      "source": [
        "x"
      ],
      "execution_count": null,
      "outputs": []
    },
    {
      "cell_type": "code",
      "source": [
        "y"
      ],
      "metadata": {
        "id": "IiLSWF1dn-tT"
      },
      "execution_count": null,
      "outputs": []
    },
    {
      "cell_type": "code",
      "metadata": {
        "id": "3Woc5Oc45svh",
        "outputId": "aaa0a3f3-3307-4469-97f0-ed3cde2b8fcf",
        "colab": {
          "base_uri": "https://localhost:8080/"
        }
      },
      "source": [
        "np.vstack([x,y]) #vertical"
      ],
      "execution_count": 81,
      "outputs": [
        {
          "output_type": "execute_result",
          "data": {
            "text/plain": [
              "array([[ 1,  2,  3,  4,  5],\n",
              "       [ 6,  7,  8,  9, 10]])"
            ]
          },
          "metadata": {},
          "execution_count": 81
        }
      ]
    },
    {
      "cell_type": "code",
      "metadata": {
        "id": "NVMD5hHv5svj",
        "outputId": "7f2d8da1-c5d0-4a43-db2a-f03a9bd928ac",
        "colab": {
          "base_uri": "https://localhost:8080/"
        }
      },
      "source": [
        "np.hstack([y,y]) #orizzontale"
      ],
      "execution_count": 82,
      "outputs": [
        {
          "output_type": "execute_result",
          "data": {
            "text/plain": [
              "array([ 6,  7,  8,  9, 10,  6,  7,  8,  9, 10])"
            ]
          },
          "metadata": {},
          "execution_count": 82
        }
      ]
    },
    {
      "cell_type": "markdown",
      "metadata": {
        "id": "o5g6MXbBnjn8"
      },
      "source": [
        "- The opposite of concatenation is splitting, which is implemented by the functions np.split\n"
      ]
    },
    {
      "cell_type": "code",
      "metadata": {
        "id": "c5BptJ0Q5svp"
      },
      "source": [
        "z, k = np.split(y,[1])"
      ],
      "execution_count": null,
      "outputs": []
    },
    {
      "cell_type": "code",
      "metadata": {
        "id": "MWkH_EeQ5svr"
      },
      "source": [
        "z"
      ],
      "execution_count": null,
      "outputs": []
    },
    {
      "cell_type": "code",
      "metadata": {
        "id": "loNYonjZ5svs"
      },
      "source": [
        "k"
      ],
      "execution_count": null,
      "outputs": []
    },
    {
      "cell_type": "markdown",
      "metadata": {
        "id": "ehZjuI1-5svt"
      },
      "source": [
        "## Computation on NumPy Arrays\n",
        "\n"
      ]
    },
    {
      "cell_type": "markdown",
      "metadata": {
        "id": "uB6xrirK5svt"
      },
      "source": [
        "- Any arithmetic operations between **equal-size arrays** applies the operation **element-wise**\n",
        "- Arithmetic operations with scalars are propagating the value to each element"
      ]
    },
    {
      "cell_type": "code",
      "metadata": {
        "id": "nZjoJPZ05svu"
      },
      "source": [
        "arr1 = np.random.randint(10,size= (10,10))\n",
        "arr2 = np.random.randint(10,size= (10,10))"
      ],
      "execution_count": 98,
      "outputs": []
    },
    {
      "cell_type": "code",
      "metadata": {
        "id": "NWENkt6q5svv",
        "outputId": "966239fa-431d-4b36-bf3f-7cbda7995ecb",
        "colab": {
          "base_uri": "https://localhost:8080/"
        }
      },
      "source": [
        "arr1"
      ],
      "execution_count": 99,
      "outputs": [
        {
          "output_type": "execute_result",
          "data": {
            "text/plain": [
              "array([[3, 5, 7, 8, 2, 8, 5, 3, 4, 6],\n",
              "       [5, 7, 3, 2, 0, 7, 4, 2, 3, 9],\n",
              "       [3, 4, 3, 6, 6, 7, 9, 4, 1, 4],\n",
              "       [6, 0, 8, 3, 9, 6, 0, 5, 5, 9],\n",
              "       [4, 8, 1, 2, 7, 6, 6, 4, 5, 7],\n",
              "       [3, 3, 6, 7, 6, 6, 1, 1, 2, 7],\n",
              "       [0, 8, 4, 5, 0, 4, 8, 8, 5, 8],\n",
              "       [3, 9, 9, 9, 6, 7, 4, 9, 3, 0],\n",
              "       [7, 1, 0, 2, 9, 2, 0, 0, 5, 3],\n",
              "       [6, 2, 9, 1, 4, 5, 5, 7, 2, 4]])"
            ]
          },
          "metadata": {},
          "execution_count": 99
        }
      ]
    },
    {
      "cell_type": "code",
      "metadata": {
        "id": "CpWFvycX5svw"
      },
      "source": [
        "arr1 * 125"
      ],
      "execution_count": null,
      "outputs": []
    },
    {
      "cell_type": "code",
      "metadata": {
        "id": "iN_3WGBE5sv2"
      },
      "source": [
        "arr1 + arr2    # arr1 and arr2 have the same shape"
      ],
      "execution_count": null,
      "outputs": []
    },
    {
      "cell_type": "code",
      "metadata": {
        "id": "lG0GuWsF5sv3"
      },
      "source": [
        "arr1 * arr2 - arr1 / ( arr2 + 1)"
      ],
      "execution_count": null,
      "outputs": []
    },
    {
      "cell_type": "markdown",
      "metadata": {
        "id": "BQt16Gmz5sv4"
      },
      "source": [
        "- Transposing arrays and inner matrix product"
      ]
    },
    {
      "cell_type": "code",
      "metadata": {
        "id": "GMP_1GmM5sv4"
      },
      "source": [
        "arr1"
      ],
      "execution_count": null,
      "outputs": []
    },
    {
      "cell_type": "code",
      "metadata": {
        "id": "VbyEOZqQ5sv5"
      },
      "source": [
        "arr1.T #da la trasposta matrice"
      ],
      "execution_count": null,
      "outputs": []
    },
    {
      "cell_type": "code",
      "metadata": {
        "id": "TutW5Qyy5sv7"
      },
      "source": [
        "np.dot(arr1,arr2)"
      ],
      "execution_count": null,
      "outputs": []
    },
    {
      "cell_type": "markdown",
      "metadata": {
        "id": "DitlygOO5swM"
      },
      "source": [
        "### Mathematical and Statistical Methods\n",
        "\n",
        "- A set of mathematical functions which compute statistics about an entire array or about the data along an axis are accessible as array methods.\n"
      ]
    },
    {
      "cell_type": "markdown",
      "metadata": {
        "id": "_xPMelpI5sv8"
      },
      "source": [
        "\n",
        "Algebric operations\n",
        "\n",
        "```\n",
        "+\tnp.add\tAddition (e.g., 1 + 1 = 2)\n",
        "-\tnp.subtract\tSubtraction (e.g., 3 - 2 = 1)\n",
        "-\tnp.negative\tUnary negation (e.g., -2)\n",
        "*\tnp.multiply\tMultiplication (e.g., 2 * 3 = 6)\n",
        "/\tnp.divide\tDivision (e.g., 3 / 2 = 1.5)\n",
        "//\tnp.floor_divide\tFloor division (e.g., 3 // 2 = 1)\n",
        "**\tnp.power\tExponentiation (e.g., 2 ** 3 = 8)\n",
        "%\tnp.mod\tModulus/remainder (e.g., 9 % 4 = 1)\n",
        "```\n",
        "\n",
        "Trigonometric functions:\n",
        "\n",
        "```\n",
        "sin, cos, tan\tcompute sine, cosine and tangent of angles\n",
        "arcsin, arccos, arctan\tcalculate inverse sine, cosine and tangent\n",
        "hypot\tcalculate hypotenuse of given right triangle\n",
        "sinh, cosh, tanh\tcompute hyperbolic sine, cosine and tangent\n",
        "arcsinh, arccosh, arctanh\tcompute inverse hyperbolic sine, cosine and tangent\n",
        "deg2rad\tconvert degree into radians\n",
        "rad2deg\tconvert radians into degree\n",
        "```\n",
        "\n",
        "Statistical functions:\n",
        "\n",
        "```\n",
        "amin, amax\treturns minimum or maximum of an array or along an axis\n",
        "ptp\treturns range of values (maximum-minimum) of an array or along an axis\n",
        "percentile(a, p, axis)\tcalculate pth percentile of array or along specified axis\n",
        "median\tcompute median of data along specified axis\n",
        "mean\tcompute mean of data along specified axis\n",
        "std\tcompute standard deviation of data along specified axis\n",
        "var\tcompute variance of data along specified axis\n",
        "average\tcompute average of data along specified axis\n",
        "```"
      ]
    },
    {
      "cell_type": "code",
      "metadata": {
        "id": "KbKxl9tKVpt1"
      },
      "source": [
        "arr1"
      ],
      "execution_count": null,
      "outputs": []
    },
    {
      "cell_type": "code",
      "metadata": {
        "id": "K45G242FCfI1"
      },
      "source": [
        "np.median(arr1)"
      ],
      "execution_count": null,
      "outputs": []
    },
    {
      "cell_type": "code",
      "metadata": {
        "id": "yTulXGgo5sv8"
      },
      "source": [
        "np.add(arr1,arr2)    # subtract, multiply, divide"
      ],
      "execution_count": null,
      "outputs": []
    },
    {
      "cell_type": "code",
      "metadata": {
        "id": "b4K6DQ9ACo5W"
      },
      "source": [
        "arr1+arr2"
      ],
      "execution_count": null,
      "outputs": []
    },
    {
      "cell_type": "markdown",
      "metadata": {
        "id": "MMuJPBF15swE"
      },
      "source": [
        "- **np.where** returns elements depending on condition"
      ]
    },
    {
      "cell_type": "code",
      "metadata": {
        "id": "8u7LMIsK5swE"
      },
      "source": [
        "a = np.arange(1,11)"
      ],
      "execution_count": 85,
      "outputs": []
    },
    {
      "cell_type": "code",
      "metadata": {
        "id": "eaAGHo755swF",
        "outputId": "90eb79e7-c9dd-4ee3-bea9-2400e64521cf",
        "colab": {
          "base_uri": "https://localhost:8080/"
        }
      },
      "source": [
        "a"
      ],
      "execution_count": 86,
      "outputs": [
        {
          "output_type": "execute_result",
          "data": {
            "text/plain": [
              "array([ 1,  2,  3,  4,  5,  6,  7,  8,  9, 10])"
            ]
          },
          "metadata": {},
          "execution_count": 86
        }
      ]
    },
    {
      "cell_type": "code",
      "source": [
        "a>5"
      ],
      "metadata": {
        "id": "wZbWYiSRwioD",
        "outputId": "90a5011a-6c1e-48ab-ba8e-5fec1b630ae1",
        "colab": {
          "base_uri": "https://localhost:8080/"
        }
      },
      "execution_count": 87,
      "outputs": [
        {
          "output_type": "execute_result",
          "data": {
            "text/plain": [
              "array([False, False, False, False, False,  True,  True,  True,  True,\n",
              "        True])"
            ]
          },
          "metadata": {},
          "execution_count": 87
        }
      ]
    },
    {
      "cell_type": "code",
      "source": [
        "np.where(a>5) #voglio capire dove il valore è > 0, ritorna tutti gli indici dell'array dove il valore è > 5"
      ],
      "metadata": {
        "id": "wzMCzOQhwo42",
        "outputId": "3245728f-2dbc-431b-8856-f6cfb2efd454",
        "colab": {
          "base_uri": "https://localhost:8080/"
        }
      },
      "execution_count": 88,
      "outputs": [
        {
          "output_type": "execute_result",
          "data": {
            "text/plain": [
              "(array([5, 6, 7, 8, 9]),)"
            ]
          },
          "metadata": {},
          "execution_count": 88
        }
      ]
    },
    {
      "cell_type": "code",
      "metadata": {
        "id": "n73DBmDx5swG",
        "outputId": "a1b0c661-18a7-48e8-eaaa-b1964052030a",
        "colab": {
          "base_uri": "https://localhost:8080/"
        }
      },
      "source": [
        "np.where(a>5,0,10) #dove a è > 5 metti 0 altrimenti metti 10"
      ],
      "execution_count": 90,
      "outputs": [
        {
          "output_type": "execute_result",
          "data": {
            "text/plain": [
              "array([10, 10, 10, 10, 10,  0,  0,  0,  0,  0])"
            ]
          },
          "metadata": {},
          "execution_count": 90
        }
      ]
    },
    {
      "cell_type": "code",
      "metadata": {
        "id": "dxYA_32J5swJ"
      },
      "source": [
        "b = np.arange(10,20)"
      ],
      "execution_count": null,
      "outputs": []
    },
    {
      "cell_type": "code",
      "metadata": {
        "id": "4dq17DSI5swK"
      },
      "source": [
        "b"
      ],
      "execution_count": null,
      "outputs": []
    },
    {
      "cell_type": "code",
      "metadata": {
        "id": "SASe9Li_5swL"
      },
      "source": [
        "np.where(a%2==1,a,b)"
      ],
      "execution_count": null,
      "outputs": []
    },
    {
      "cell_type": "markdown",
      "metadata": {
        "id": "UCzNEXTS5swU"
      },
      "source": [
        "## Boolean Arrays\n",
        "\n",
        "- Boolean values are coerced to 1 (True) and 0 (False) in the above methods.\n",
        "- Sum is often used as a means of counting True values in a boolean array.\n"
      ]
    },
    {
      "cell_type": "code",
      "metadata": {
        "id": "mIw_sXAG5swZ"
      },
      "source": [
        "bools = np.array([True,True,False,False,True])"
      ],
      "execution_count": null,
      "outputs": []
    },
    {
      "cell_type": "code",
      "metadata": {
        "id": "q7U_Ads25swa"
      },
      "source": [
        "bools.sum()"
      ],
      "execution_count": null,
      "outputs": []
    },
    {
      "cell_type": "code",
      "metadata": {
        "id": "NGBVHUCc5swb"
      },
      "source": [
        "bools.any() #indice se c'è almeno un valore = true nell'array"
      ],
      "execution_count": null,
      "outputs": []
    },
    {
      "cell_type": "code",
      "metadata": {
        "id": "X5imyaHW5swc"
      },
      "source": [
        "bools.all() #verifica se tutti sono = true"
      ],
      "execution_count": null,
      "outputs": []
    },
    {
      "cell_type": "code",
      "metadata": {
        "id": "AZbeRkfk5swe"
      },
      "source": [
        "bools[:2].all()"
      ],
      "execution_count": null,
      "outputs": []
    },
    {
      "cell_type": "markdown",
      "metadata": {
        "id": "8PpBf9z35swg"
      },
      "source": [
        "## Sorting\n",
        "- Like Python’s built-in list type, NumPy arrays can be sorted in-place using the sort method"
      ]
    },
    {
      "cell_type": "code",
      "metadata": {
        "id": "1OEKB0QF5swk"
      },
      "source": [
        "arrsort = np.random.randn(4,3)"
      ],
      "execution_count": 91,
      "outputs": []
    },
    {
      "cell_type": "code",
      "metadata": {
        "id": "0jnOF5Dm5swl",
        "outputId": "fd9e268f-09d8-47fd-b230-373b6189c471",
        "colab": {
          "base_uri": "https://localhost:8080/"
        }
      },
      "source": [
        "arrsort"
      ],
      "execution_count": 92,
      "outputs": [
        {
          "output_type": "execute_result",
          "data": {
            "text/plain": [
              "array([[-2.63863533,  0.60305006, -0.3545661 ],\n",
              "       [ 0.91338736, -0.55943621,  0.80805798],\n",
              "       [-1.23889178,  1.12965061,  0.50247233],\n",
              "       [-1.42693153,  0.90802027,  0.20306873]])"
            ]
          },
          "metadata": {},
          "execution_count": 92
        }
      ]
    },
    {
      "cell_type": "code",
      "metadata": {
        "id": "PzTNRv0l5swm"
      },
      "source": [
        "arrsort.sort(0)    # righe, metto in ordine sicondo le righe"
      ],
      "execution_count": 93,
      "outputs": []
    },
    {
      "cell_type": "code",
      "metadata": {
        "id": "26GggF0Y5swn",
        "outputId": "e2ddbc40-b8b8-4bf5-9216-fe2913d4a734",
        "colab": {
          "base_uri": "https://localhost:8080/"
        }
      },
      "source": [
        "arrsort"
      ],
      "execution_count": 94,
      "outputs": [
        {
          "output_type": "execute_result",
          "data": {
            "text/plain": [
              "array([[-2.63863533, -0.55943621, -0.3545661 ],\n",
              "       [-1.42693153,  0.60305006,  0.20306873],\n",
              "       [-1.23889178,  0.90802027,  0.50247233],\n",
              "       [ 0.91338736,  1.12965061,  0.80805798]])"
            ]
          },
          "metadata": {},
          "execution_count": 94
        }
      ]
    },
    {
      "cell_type": "code",
      "metadata": {
        "id": "UnSgk3Ox5swo"
      },
      "source": [
        "arrsort.sort(1)    # colonne, metto in ordine secondo le colonne"
      ],
      "execution_count": 95,
      "outputs": []
    },
    {
      "cell_type": "code",
      "metadata": {
        "id": "B9NjXY9F5sws",
        "outputId": "177fcfbe-f733-4902-924c-cf205d66b0a6",
        "colab": {
          "base_uri": "https://localhost:8080/"
        }
      },
      "source": [
        "arrsort"
      ],
      "execution_count": 96,
      "outputs": [
        {
          "output_type": "execute_result",
          "data": {
            "text/plain": [
              "array([[-2.63863533, -0.55943621, -0.3545661 ],\n",
              "       [-1.42693153,  0.20306873,  0.60305006],\n",
              "       [-1.23889178,  0.50247233,  0.90802027],\n",
              "       [ 0.80805798,  0.91338736,  1.12965061]])"
            ]
          },
          "metadata": {},
          "execution_count": 96
        }
      ]
    },
    {
      "cell_type": "markdown",
      "metadata": {
        "id": "3XxfwYkT5swu"
      },
      "source": [
        "## Unique and Other Set Logic\n",
        "\n",
        "- NumPy has some basic set operations for one-dimensional ndarrays."
      ]
    },
    {
      "cell_type": "code",
      "metadata": {
        "id": "yY6lGgGz5swu"
      },
      "source": [
        "names = np.array(['Bob', 'Joe', 'Will', 'Bob', 'Will', 'Joe', 'Joe'])"
      ],
      "execution_count": null,
      "outputs": []
    },
    {
      "cell_type": "code",
      "metadata": {
        "id": "SwB_nSG65swv"
      },
      "source": [
        "np.unique(names) #da un array con nomi che non sono ripetuti"
      ],
      "execution_count": null,
      "outputs": []
    },
    {
      "cell_type": "code",
      "metadata": {
        "id": "wZ0jF9iU5swx"
      },
      "source": [],
      "execution_count": null,
      "outputs": []
    }
  ]
}